{
 "cells": [
  {
   "cell_type": "code",
   "execution_count": 18,
   "metadata": {},
   "outputs": [],
   "source": [
    "import pickle\n",
    "loaded_reg = pickle. load(open('randomreg_chronic', 'rb'))\n",
    "loaded_scaler = pickle. load(open('scaler_admin', 'rb'))"
   ]
  },
  {
   "cell_type": "code",
   "execution_count": 19,
   "metadata": {},
   "outputs": [],
   "source": [
    "import numpy as np\n",
    "import pandas as pd"
   ]
  },
  {
   "cell_type": "code",
   "execution_count": null,
   "metadata": {},
   "outputs": [
    {
     "name": "stdout",
     "output_type": "stream",
     "text": [
      " * Serving Flask app \"__main__\" (lazy loading)\n",
      " * Environment: production\n",
      "   WARNING: This is a development server. Do not use it in a production deployment.\n",
      "   Use a production WSGI server instead.\n",
      " * Debug mode: off\n"
     ]
    },
    {
     "name": "stderr",
     "output_type": "stream",
     "text": [
      " * Running on http://127.0.0.1:5000/ (Press CTRL+C to quit)\n",
      "127.0.0.1 - - [18/Oct/2022 13:22:14] \"\u001b[37mGET / HTTP/1.1\u001b[0m\" 200 -\n",
      "C:\\Users\\Sinegalatha\\anaconda3\\lib\\site-packages\\sklearn\\base.py:450: UserWarning: X does not have valid feature names, but MinMaxScaler was fitted with feature names\n",
      "  warnings.warn(\n",
      "C:\\Users\\Sinegalatha\\anaconda3\\lib\\site-packages\\sklearn\\base.py:450: UserWarning: X does not have valid feature names, but RandomForestRegressor was fitted with feature names\n",
      "  warnings.warn(\n",
      "127.0.0.1 - - [18/Oct/2022 13:22:26] \"\u001b[37mPOST /val HTTP/1.1\u001b[0m\" 200 -\n"
     ]
    },
    {
     "name": "stdout",
     "output_type": "stream",
     "text": [
      "[11, 22, 33, 44, 55, 66, 77]\n",
      "[[-5.58       -2.62962963  8.         10.75       13.5        19.73333333\n",
      "  77.        ]]\n",
      "[0.9091]\n"
     ]
    },
    {
     "name": "stderr",
     "output_type": "stream",
     "text": [
      "C:\\Users\\Sinegalatha\\anaconda3\\lib\\site-packages\\sklearn\\base.py:450: UserWarning: X does not have valid feature names, but MinMaxScaler was fitted with feature names\n",
      "  warnings.warn(\n",
      "C:\\Users\\Sinegalatha\\anaconda3\\lib\\site-packages\\sklearn\\base.py:450: UserWarning: X does not have valid feature names, but RandomForestRegressor was fitted with feature names\n",
      "  warnings.warn(\n",
      "127.0.0.1 - - [18/Oct/2022 13:24:17] \"\u001b[37mPOST /val HTTP/1.1\u001b[0m\" 200 -\n"
     ]
    },
    {
     "name": "stdout",
     "output_type": "stream",
     "text": [
      "[314, 103, 2, 2, 3, 8, 0]\n",
      "[[0.48       0.37037037 0.25       0.25       0.5        0.4\n",
      "  0.        ]]\n",
      "[0.6125]\n"
     ]
    }
   ],
   "source": [
    "from flask import Flask, request, redirect, render_template\n",
    "app = Flask(__name__)\n",
    "@app.route(\"/\",methods=['GET', 'POST'])\n",
    "def index():\n",
    "    return render_template('index.html')\n",
    "@app.route(\"/val\",methods=['POST'])\n",
    "\n",
    "def val():\n",
    "    test=[]\n",
    "    if request.method == 'POST':\n",
    "        test.append(int(request.form.get(\"GRE Score\")))\n",
    "        test.append(int(request.form.get(\"TOEFL Score\")))\n",
    "        test.append(int(request.form.get(\"University Rating\")))\n",
    "        test.append(int(request.form.get(\"SOP\")))\n",
    "        test.append(int(request.form.get(\"LOR\")))\n",
    "        test.append(int(request.form.get(\"CGPA\")))\n",
    "        test.append(int(request.form.get(\"Research\")))\n",
    "        \n",
    "    print(test)\n",
    "    test_df=pd.DataFrame(test)\n",
    "    test_df=np.array(test_df).reshape(1, -1)\n",
    "    \n",
    "    ans1=loaded_scaler.transform(test_df)\n",
    "    print(ans1)\n",
    "    ans2=loaded_reg.predict(ans1)\n",
    "    print(ans2)\n",
    "\n",
    "    return render_template('rename.html',answer2=ans2)\n",
    "    \n",
    "if __name__ == \"__main__\":\n",
    "    app.debug=True\n",
    "    app.run(debug=False)"
   ]
  },
  {
   "cell_type": "code",
   "execution_count": null,
   "metadata": {},
   "outputs": [],
   "source": []
  }
 ],
 "metadata": {
  "kernelspec": {
   "display_name": "Python 3",
   "language": "python",
   "name": "python3"
  },
  "language_info": {
   "codemirror_mode": {
    "name": "ipython",
    "version": 3
   },
   "file_extension": ".py",
   "mimetype": "text/x-python",
   "name": "python",
   "nbconvert_exporter": "python",
   "pygments_lexer": "ipython3",
   "version": "3.8.3"
  }
 },
 "nbformat": 4,
 "nbformat_minor": 4
}
